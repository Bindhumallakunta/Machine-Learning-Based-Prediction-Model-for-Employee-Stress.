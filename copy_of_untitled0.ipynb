{
  "nbformat": 4,
  "nbformat_minor": 0,
  "metadata": {
    "colab": {
      "provenance": [],
      "authorship_tag": "ABX9TyNR0dBwbHjUDAuTQQlbQrN6",
      "include_colab_link": true
    },
    "kernelspec": {
      "name": "python3",
      "display_name": "Python 3"
    },
    "language_info": {
      "name": "python"
    }
  },
  "cells": [
    {
      "cell_type": "markdown",
      "metadata": {
        "id": "view-in-github",
        "colab_type": "text"
      },
      "source": [
        "<a href=\"https://colab.research.google.com/github/Bindhumallakunta/Machine-Learning-Based-Prediction-Model-for-Employee-Stress./blob/main/copy_of_untitled0.ipynb\" target=\"_parent\"><img src=\"https://colab.research.google.com/assets/colab-badge.svg\" alt=\"Open In Colab\"/></a>"
      ]
    },
    {
      "cell_type": "code",
      "source": [
        "from google.colab import files\n",
        "uploaded = files.upload()\n"
      ],
      "metadata": {
        "colab": {
          "base_uri": "https://localhost:8080/",
          "height": 74
        },
        "id": "Z5eb4lZ_Gcgo",
        "outputId": "cf3b89b6-4d30-41d8-a4a6-4125c365a49a"
      },
      "execution_count": 3,
      "outputs": [
        {
          "output_type": "display_data",
          "data": {
            "text/plain": [
              "<IPython.core.display.HTML object>"
            ],
            "text/html": [
              "\n",
              "     <input type=\"file\" id=\"files-6638b59a-5a08-46b0-8d69-67039d2f8fa6\" name=\"files[]\" multiple disabled\n",
              "        style=\"border:none\" />\n",
              "     <output id=\"result-6638b59a-5a08-46b0-8d69-67039d2f8fa6\">\n",
              "      Upload widget is only available when the cell has been executed in the\n",
              "      current browser session. Please rerun this cell to enable.\n",
              "      </output>\n",
              "      <script>// Copyright 2017 Google LLC\n",
              "//\n",
              "// Licensed under the Apache License, Version 2.0 (the \"License\");\n",
              "// you may not use this file except in compliance with the License.\n",
              "// You may obtain a copy of the License at\n",
              "//\n",
              "//      http://www.apache.org/licenses/LICENSE-2.0\n",
              "//\n",
              "// Unless required by applicable law or agreed to in writing, software\n",
              "// distributed under the License is distributed on an \"AS IS\" BASIS,\n",
              "// WITHOUT WARRANTIES OR CONDITIONS OF ANY KIND, either express or implied.\n",
              "// See the License for the specific language governing permissions and\n",
              "// limitations under the License.\n",
              "\n",
              "/**\n",
              " * @fileoverview Helpers for google.colab Python module.\n",
              " */\n",
              "(function(scope) {\n",
              "function span(text, styleAttributes = {}) {\n",
              "  const element = document.createElement('span');\n",
              "  element.textContent = text;\n",
              "  for (const key of Object.keys(styleAttributes)) {\n",
              "    element.style[key] = styleAttributes[key];\n",
              "  }\n",
              "  return element;\n",
              "}\n",
              "\n",
              "// Max number of bytes which will be uploaded at a time.\n",
              "const MAX_PAYLOAD_SIZE = 100 * 1024;\n",
              "\n",
              "function _uploadFiles(inputId, outputId) {\n",
              "  const steps = uploadFilesStep(inputId, outputId);\n",
              "  const outputElement = document.getElementById(outputId);\n",
              "  // Cache steps on the outputElement to make it available for the next call\n",
              "  // to uploadFilesContinue from Python.\n",
              "  outputElement.steps = steps;\n",
              "\n",
              "  return _uploadFilesContinue(outputId);\n",
              "}\n",
              "\n",
              "// This is roughly an async generator (not supported in the browser yet),\n",
              "// where there are multiple asynchronous steps and the Python side is going\n",
              "// to poll for completion of each step.\n",
              "// This uses a Promise to block the python side on completion of each step,\n",
              "// then passes the result of the previous step as the input to the next step.\n",
              "function _uploadFilesContinue(outputId) {\n",
              "  const outputElement = document.getElementById(outputId);\n",
              "  const steps = outputElement.steps;\n",
              "\n",
              "  const next = steps.next(outputElement.lastPromiseValue);\n",
              "  return Promise.resolve(next.value.promise).then((value) => {\n",
              "    // Cache the last promise value to make it available to the next\n",
              "    // step of the generator.\n",
              "    outputElement.lastPromiseValue = value;\n",
              "    return next.value.response;\n",
              "  });\n",
              "}\n",
              "\n",
              "/**\n",
              " * Generator function which is called between each async step of the upload\n",
              " * process.\n",
              " * @param {string} inputId Element ID of the input file picker element.\n",
              " * @param {string} outputId Element ID of the output display.\n",
              " * @return {!Iterable<!Object>} Iterable of next steps.\n",
              " */\n",
              "function* uploadFilesStep(inputId, outputId) {\n",
              "  const inputElement = document.getElementById(inputId);\n",
              "  inputElement.disabled = false;\n",
              "\n",
              "  const outputElement = document.getElementById(outputId);\n",
              "  outputElement.innerHTML = '';\n",
              "\n",
              "  const pickedPromise = new Promise((resolve) => {\n",
              "    inputElement.addEventListener('change', (e) => {\n",
              "      resolve(e.target.files);\n",
              "    });\n",
              "  });\n",
              "\n",
              "  const cancel = document.createElement('button');\n",
              "  inputElement.parentElement.appendChild(cancel);\n",
              "  cancel.textContent = 'Cancel upload';\n",
              "  const cancelPromise = new Promise((resolve) => {\n",
              "    cancel.onclick = () => {\n",
              "      resolve(null);\n",
              "    };\n",
              "  });\n",
              "\n",
              "  // Wait for the user to pick the files.\n",
              "  const files = yield {\n",
              "    promise: Promise.race([pickedPromise, cancelPromise]),\n",
              "    response: {\n",
              "      action: 'starting',\n",
              "    }\n",
              "  };\n",
              "\n",
              "  cancel.remove();\n",
              "\n",
              "  // Disable the input element since further picks are not allowed.\n",
              "  inputElement.disabled = true;\n",
              "\n",
              "  if (!files) {\n",
              "    return {\n",
              "      response: {\n",
              "        action: 'complete',\n",
              "      }\n",
              "    };\n",
              "  }\n",
              "\n",
              "  for (const file of files) {\n",
              "    const li = document.createElement('li');\n",
              "    li.append(span(file.name, {fontWeight: 'bold'}));\n",
              "    li.append(span(\n",
              "        `(${file.type || 'n/a'}) - ${file.size} bytes, ` +\n",
              "        `last modified: ${\n",
              "            file.lastModifiedDate ? file.lastModifiedDate.toLocaleDateString() :\n",
              "                                    'n/a'} - `));\n",
              "    const percent = span('0% done');\n",
              "    li.appendChild(percent);\n",
              "\n",
              "    outputElement.appendChild(li);\n",
              "\n",
              "    const fileDataPromise = new Promise((resolve) => {\n",
              "      const reader = new FileReader();\n",
              "      reader.onload = (e) => {\n",
              "        resolve(e.target.result);\n",
              "      };\n",
              "      reader.readAsArrayBuffer(file);\n",
              "    });\n",
              "    // Wait for the data to be ready.\n",
              "    let fileData = yield {\n",
              "      promise: fileDataPromise,\n",
              "      response: {\n",
              "        action: 'continue',\n",
              "      }\n",
              "    };\n",
              "\n",
              "    // Use a chunked sending to avoid message size limits. See b/62115660.\n",
              "    let position = 0;\n",
              "    do {\n",
              "      const length = Math.min(fileData.byteLength - position, MAX_PAYLOAD_SIZE);\n",
              "      const chunk = new Uint8Array(fileData, position, length);\n",
              "      position += length;\n",
              "\n",
              "      const base64 = btoa(String.fromCharCode.apply(null, chunk));\n",
              "      yield {\n",
              "        response: {\n",
              "          action: 'append',\n",
              "          file: file.name,\n",
              "          data: base64,\n",
              "        },\n",
              "      };\n",
              "\n",
              "      let percentDone = fileData.byteLength === 0 ?\n",
              "          100 :\n",
              "          Math.round((position / fileData.byteLength) * 100);\n",
              "      percent.textContent = `${percentDone}% done`;\n",
              "\n",
              "    } while (position < fileData.byteLength);\n",
              "  }\n",
              "\n",
              "  // All done.\n",
              "  yield {\n",
              "    response: {\n",
              "      action: 'complete',\n",
              "    }\n",
              "  };\n",
              "}\n",
              "\n",
              "scope.google = scope.google || {};\n",
              "scope.google.colab = scope.google.colab || {};\n",
              "scope.google.colab._files = {\n",
              "  _uploadFiles,\n",
              "  _uploadFilesContinue,\n",
              "};\n",
              "})(self);\n",
              "</script> "
            ]
          },
          "metadata": {}
        },
        {
          "output_type": "stream",
          "name": "stdout",
          "text": [
            "Saving UAE-COVID-19-Vaccine-Related-Tweets_Annotated.csv to UAE-COVID-19-Vaccine-Related-Tweets_Annotated.csv\n"
          ]
        }
      ]
    },
    {
      "cell_type": "code",
      "source": [
        "import pandas as pd\n",
        "from sklearn.model_selection import train_test_split\n",
        "from sklearn.preprocessing import LabelEncoder, StandardScaler\n",
        "from sklearn.impute import SimpleImputer\n",
        "\n",
        "# Load the dataset\n",
        "file_path = 'UAE-COVID-19-Vaccine-Related-Tweets_Annotated.csv'\n",
        "data = pd.read_csv(file_path)\n",
        "\n",
        "# Drop completely empty columns\n",
        "data = data.dropna(axis=1, how='all')\n",
        "\n",
        "# Handle missing values\n",
        "imputer = SimpleImputer(strategy='most_frequent')\n",
        "data = pd.DataFrame(imputer.fit_transform(data), columns=data.columns)\n",
        "\n",
        "# Encode categorical variables\n",
        "label_encoders = {}\n",
        "for col in data.select_dtypes(include=['object', 'bool']).columns:\n",
        "    le = LabelEncoder()\n",
        "    data[col] = le.fit_transform(data[col].astype(str))\n",
        "    label_encoders[col] = le\n",
        "\n",
        "# View column names to decide the target\n",
        "print(\"Available columns:\", data.columns.tolist())\n"
      ],
      "metadata": {
        "colab": {
          "base_uri": "https://localhost:8080/"
        },
        "id": "kLtk2xe_R0gA",
        "outputId": "fc7fdc07-fc47-4db8-c7c0-a872342a3820"
      },
      "execution_count": 44,
      "outputs": [
        {
          "output_type": "stream",
          "name": "stdout",
          "text": [
            "Available columns: ['Date', 'Tweet ID', 'TextBlob sentiment', 'VADER sentiment', 'EmoLex Emotion', 'Annotated Emotions']\n"
          ]
        }
      ]
    },
    {
      "cell_type": "code",
      "source": [
        "print(\"Columns in the dataset:\\n\", data.columns.tolist())\n"
      ],
      "metadata": {
        "colab": {
          "base_uri": "https://localhost:8080/"
        },
        "id": "anE0LjAlTKTA",
        "outputId": "294763b5-9459-40c7-95ad-6ad0d41a9253"
      },
      "execution_count": 45,
      "outputs": [
        {
          "output_type": "stream",
          "name": "stdout",
          "text": [
            "Columns in the dataset:\n",
            " ['Date', 'Tweet ID', 'TextBlob sentiment', 'VADER sentiment', 'EmoLex Emotion', 'Annotated Emotions']\n"
          ]
        }
      ]
    },
    {
      "cell_type": "code",
      "source": [
        "# Define features and target\n",
        "X = data.drop(columns=['Annotated Emotions'])\n",
        "y = data['Annotated Emotions']\n"
      ],
      "metadata": {
        "id": "MN02Wugsjhwy"
      },
      "execution_count": 47,
      "outputs": []
    },
    {
      "cell_type": "code",
      "source": [
        "from sklearn.model_selection import train_test_split\n",
        "\n",
        "# Split data into training and test sets\n",
        "X_train, X_test, y_train, y_test = train_test_split(X, y, test_size=0.2, random_state=42)\n"
      ],
      "metadata": {
        "id": "hPzuarfgjlxa"
      },
      "execution_count": 48,
      "outputs": []
    },
    {
      "cell_type": "code",
      "source": [
        "from sklearn.preprocessing import StandardScaler\n",
        "\n",
        "# Standardize the feature values\n",
        "scaler = StandardScaler()\n",
        "X_train = scaler.fit_transform(X_train)\n",
        "X_test = scaler.transform(X_test)\n"
      ],
      "metadata": {
        "id": "OW87Av38jo35"
      },
      "execution_count": 49,
      "outputs": []
    },
    {
      "cell_type": "code",
      "source": [
        "from sklearn.ensemble import RandomForestClassifier\n",
        "from sklearn.metrics import accuracy_score, classification_report, confusion_matrix\n",
        "\n",
        "rf_model = RandomForestClassifier(random_state=42)\n",
        "rf_model.fit(X_train, y_train)\n",
        "\n",
        "y_pred = rf_model.predict(X_test)\n",
        "\n",
        "print(\"✅ Random Forest Results\")\n",
        "print(\"Accuracy:\", accuracy_score(y_test, y_pred))\n",
        "print(\"Classification Report:\\n\", classification_report(y_test, y_pred, zero_division=0))\n",
        "print(\"Confusion Matrix:\\n\", confusion_matrix(y_test, y_pred))\n"
      ],
      "metadata": {
        "colab": {
          "base_uri": "https://localhost:8080/"
        },
        "id": "EYMerAvpl005",
        "outputId": "5933f78c-520c-4b02-e094-16dea7a7bf53"
      },
      "execution_count": 50,
      "outputs": [
        {
          "output_type": "stream",
          "name": "stdout",
          "text": [
            "✅ Random Forest Results\n",
            "Accuracy: 0.5644171779141104\n",
            "Classification Report:\n",
            "               precision    recall  f1-score   support\n",
            "\n",
            "           0       0.78      0.54      0.64        13\n",
            "           1       0.17      0.09      0.12        11\n",
            "           2       0.33      0.22      0.27         9\n",
            "           3       0.67      0.22      0.33         9\n",
            "           4       0.36      0.56      0.43         9\n",
            "           5       0.64      0.72      0.68        89\n",
            "           6       0.00      0.00      0.00         2\n",
            "           7       1.00      0.25      0.40         4\n",
            "           8       0.42      0.59      0.49        17\n",
            "\n",
            "    accuracy                           0.56       163\n",
            "   macro avg       0.48      0.35      0.37       163\n",
            "weighted avg       0.57      0.56      0.55       163\n",
            "\n",
            "Confusion Matrix:\n",
            " [[ 7  1  0  0  0  3  0  0  2]\n",
            " [ 0  1  1  0  1  7  0  0  1]\n",
            " [ 0  0  2  0  0  7  0  0  0]\n",
            " [ 0  0  0  2  0  7  0  0  0]\n",
            " [ 0  1  0  0  5  3  0  0  0]\n",
            " [ 2  3  3  1  7 64  0  0  9]\n",
            " [ 0  0  0  0  0  1  0  0  1]\n",
            " [ 0  0  0  0  1  1  0  1  1]\n",
            " [ 0  0  0  0  0  7  0  0 10]]\n"
          ]
        }
      ]
    },
    {
      "cell_type": "code",
      "source": [
        "from sklearn.linear_model import LogisticRegression\n",
        "from sklearn.metrics import accuracy_score, classification_report, confusion_matrix\n",
        "\n",
        "lr_model = LogisticRegression(max_iter=1000)\n",
        "lr_model.fit(X_train, y_train)\n",
        "\n",
        "lr_pred = lr_model.predict(X_test)\n",
        "\n",
        "print(\"🔹 Logistic Regression\")\n",
        "print(\"Accuracy:\", accuracy_score(y_test, lr_pred))\n",
        "print(\"Classification Report:\\n\", classification_report(y_test, lr_pred,zero_division=0))\n",
        "print(\"Confusion Matrix:\\n\", confusion_matrix(y_test, lr_pred))\n"
      ],
      "metadata": {
        "colab": {
          "base_uri": "https://localhost:8080/"
        },
        "id": "si0b3hcAkGpc",
        "outputId": "4c8c6c16-a1d3-4ebf-8714-dccd7404a968"
      },
      "execution_count": 51,
      "outputs": [
        {
          "output_type": "stream",
          "name": "stdout",
          "text": [
            "🔹 Logistic Regression\n",
            "Accuracy: 0.5950920245398773\n",
            "Classification Report:\n",
            "               precision    recall  f1-score   support\n",
            "\n",
            "           0       1.00      0.46      0.63        13\n",
            "           1       0.00      0.00      0.00        11\n",
            "           2       0.00      0.00      0.00         9\n",
            "           3       0.00      0.00      0.00         9\n",
            "           4       0.00      0.00      0.00         9\n",
            "           5       0.63      0.92      0.75        89\n",
            "           6       0.00      0.00      0.00         2\n",
            "           7       0.00      0.00      0.00         4\n",
            "           8       0.53      0.53      0.53        17\n",
            "\n",
            "    accuracy                           0.60       163\n",
            "   macro avg       0.24      0.21      0.21       163\n",
            "weighted avg       0.48      0.60      0.51       163\n",
            "\n",
            "Confusion Matrix:\n",
            " [[ 6  1  2  0  0  4  0  0  0]\n",
            " [ 0  0  2  0  0  9  0  0  0]\n",
            " [ 0  0  0  0  0  9  0  0  0]\n",
            " [ 0  0  1  0  0  5  0  0  3]\n",
            " [ 0  0  1  0  0  7  0  0  1]\n",
            " [ 0  1  1  1  0 82  0  0  4]\n",
            " [ 0  0  0  0  0  2  0  0  0]\n",
            " [ 0  0  0  0  0  4  0  0  0]\n",
            " [ 0  0  0  0  0  8  0  0  9]]\n"
          ]
        }
      ]
    },
    {
      "cell_type": "code",
      "source": [
        "from sklearn.svm import SVC\n",
        "\n",
        "svm_model = SVC()\n",
        "svm_model.fit(X_train, y_train)\n",
        "\n",
        "svm_pred = svm_model.predict(X_test)\n",
        "\n",
        "print(\"\\n🔹 Support Vector Machine\")\n",
        "print(\"Accuracy:\", accuracy_score(y_test, svm_pred))\n",
        "print(\"Classification Report:\\n\", classification_report(y_test, svm_pred,zero_division=0))\n",
        "print(\"Confusion Matrix:\\n\", confusion_matrix(y_test, svm_pred))\n"
      ],
      "metadata": {
        "colab": {
          "base_uri": "https://localhost:8080/"
        },
        "id": "npUeyq7mkJHJ",
        "outputId": "7b3c07e0-1b3f-4dab-8a8b-9dca2943a627"
      },
      "execution_count": 52,
      "outputs": [
        {
          "output_type": "stream",
          "name": "stdout",
          "text": [
            "\n",
            "🔹 Support Vector Machine\n",
            "Accuracy: 0.6134969325153374\n",
            "Classification Report:\n",
            "               precision    recall  f1-score   support\n",
            "\n",
            "           0       1.00      0.46      0.63        13\n",
            "           1       0.00      0.00      0.00        11\n",
            "           2       0.00      0.00      0.00         9\n",
            "           3       0.00      0.00      0.00         9\n",
            "           4       0.00      0.00      0.00         9\n",
            "           5       0.62      0.94      0.75        89\n",
            "           6       0.00      0.00      0.00         2\n",
            "           7       0.00      0.00      0.00         4\n",
            "           8       0.53      0.59      0.56        17\n",
            "\n",
            "    accuracy                           0.61       163\n",
            "   macro avg       0.24      0.22      0.22       163\n",
            "weighted avg       0.47      0.61      0.52       163\n",
            "\n",
            "Confusion Matrix:\n",
            " [[ 6  0  1  0  0  6  0  0  0]\n",
            " [ 0  0  0  0  0 11  0  0  0]\n",
            " [ 0  0  0  0  0  9  0  0  0]\n",
            " [ 0  0  0  0  0  6  0  0  3]\n",
            " [ 0  0  0  0  0  8  0  0  1]\n",
            " [ 0  1  0  1  0 84  0  0  3]\n",
            " [ 0  0  0  0  0  2  0  0  0]\n",
            " [ 0  0  0  0  0  2  0  0  2]\n",
            " [ 0  0  0  0  0  7  0  0 10]]\n"
          ]
        }
      ]
    },
    {
      "cell_type": "code",
      "source": [
        "from sklearn.naive_bayes import GaussianNB\n",
        "\n",
        "nb_model = GaussianNB()\n",
        "nb_model.fit(X_train, y_train)\n",
        "\n",
        "nb_pred = nb_model.predict(X_test)\n",
        "\n",
        "print(\"\\n🔹 Naive Bayes\")\n",
        "print(\"Accuracy:\", accuracy_score(y_test, nb_pred))\n",
        "print(\"Classification Report:\\n\", classification_report(y_test, nb_pred,zero_division=0))\n",
        "print(\"Confusion Matrix:\\n\", confusion_matrix(y_test, nb_pred))\n"
      ],
      "metadata": {
        "colab": {
          "base_uri": "https://localhost:8080/"
        },
        "id": "BxAM_BV-kMiY",
        "outputId": "a58e984d-b7f3-4758-e0a9-aea07f1ff1d3"
      },
      "execution_count": 53,
      "outputs": [
        {
          "output_type": "stream",
          "name": "stdout",
          "text": [
            "\n",
            "🔹 Naive Bayes\n",
            "Accuracy: 0.3006134969325153\n",
            "Classification Report:\n",
            "               precision    recall  f1-score   support\n",
            "\n",
            "           0       0.86      0.46      0.60        13\n",
            "           1       0.00      0.00      0.00        11\n",
            "           2       0.20      0.44      0.28         9\n",
            "           3       0.00      0.00      0.00         9\n",
            "           4       0.00      0.00      0.00         9\n",
            "           5       0.51      0.37      0.43        89\n",
            "           6       0.00      0.00      0.00         2\n",
            "           7       0.07      1.00      0.13         4\n",
            "           8       0.29      0.12      0.17        17\n",
            "\n",
            "    accuracy                           0.30       163\n",
            "   macro avg       0.21      0.27      0.18       163\n",
            "weighted avg       0.39      0.30      0.32       163\n",
            "\n",
            "Confusion Matrix:\n",
            " [[ 6  2  0  1  0  3  0  1  0]\n",
            " [ 0  0  3  0  0  6  0  2  0]\n",
            " [ 0  0  4  0  0  5  0  0  0]\n",
            " [ 1  0  1  0  0  4  0  2  1]\n",
            " [ 0  1  1  0  0  6  0  0  1]\n",
            " [ 0  1 11  2  0 33  0 39  3]\n",
            " [ 0  0  0  0  0  1  0  1  0]\n",
            " [ 0  0  0  0  0  0  0  4  0]\n",
            " [ 0  0  0  1  0  7  0  7  2]]\n"
          ]
        }
      ]
    },
    {
      "cell_type": "code",
      "source": [
        "from sklearn.tree import DecisionTreeClassifier\n",
        "\n",
        "dt_model = DecisionTreeClassifier(random_state=42)\n",
        "dt_model.fit(X_train, y_train)\n",
        "\n",
        "dt_pred = dt_model.predict(X_test)\n",
        "\n",
        "print(\"\\n🔹 Decision Tree\")\n",
        "print(\"Accuracy:\", accuracy_score(y_test, dt_pred))\n",
        "print(\"Classification Report:\\n\", classification_report(y_test, dt_pred,zero_division=0))\n",
        "print(\"Confusion Matrix:\\n\", confusion_matrix(y_test, dt_pred))\n"
      ],
      "metadata": {
        "colab": {
          "base_uri": "https://localhost:8080/"
        },
        "id": "wXS9gtEjkPuP",
        "outputId": "0bdfa3ff-0ae0-479b-ed51-90da5c667034"
      },
      "execution_count": 66,
      "outputs": [
        {
          "output_type": "stream",
          "name": "stdout",
          "text": [
            "\n",
            "🔹 Decision Tree\n",
            "Accuracy: 0.5153374233128835\n",
            "Classification Report:\n",
            "               precision    recall  f1-score   support\n",
            "\n",
            "           0       0.54      0.54      0.54        13\n",
            "           1       0.33      0.36      0.35        11\n",
            "           2       0.27      0.33      0.30         9\n",
            "           3       0.14      0.11      0.12         9\n",
            "           4       0.10      0.11      0.11         9\n",
            "           5       0.69      0.61      0.65        89\n",
            "           6       0.00      0.00      0.00         2\n",
            "           7       1.00      1.00      1.00         4\n",
            "           8       0.37      0.59      0.45        17\n",
            "\n",
            "    accuracy                           0.52       163\n",
            "   macro avg       0.38      0.41      0.39       163\n",
            "weighted avg       0.54      0.52      0.52       163\n",
            "\n",
            "Confusion Matrix:\n",
            " [[ 7  1  0  0  0  3  0  0  2]\n",
            " [ 0  4  0  0  1  5  0  0  1]\n",
            " [ 0  0  3  0  1  5  0  0  0]\n",
            " [ 0  1  2  1  1  3  0  0  1]\n",
            " [ 0  2  0  0  1  4  0  0  2]\n",
            " [ 5  3  5  6  5 54  1  0 10]\n",
            " [ 0  0  0  0  0  1  0  0  1]\n",
            " [ 0  0  0  0  0  0  0  4  0]\n",
            " [ 1  1  1  0  1  3  0  0 10]]\n"
          ]
        }
      ]
    },
    {
      "cell_type": "code",
      "source": [
        "from sklearn.ensemble import RandomForestClassifier\n",
        "\n",
        "rf_model = RandomForestClassifier(random_state=42)\n",
        "rf_model.fit(X_train, y_train)\n",
        "\n",
        "rf_pred = rf_model.predict(X_test)\n",
        "\n",
        "print(\"\\n🔹 Random Forest\")\n",
        "print(\"Accuracy:\", accuracy_score(y_test, rf_pred))\n",
        "print(\"Classification Report:\\n\", classification_report(y_test, rf_pred,zero_division=0))\n",
        "print(\"Confusion Matrix:\\n\", confusion_matrix(y_test, rf_pred))\n"
      ],
      "metadata": {
        "colab": {
          "base_uri": "https://localhost:8080/"
        },
        "id": "xadr5aITkSop",
        "outputId": "d9ad41d4-ff2b-44e4-aa92-fd46d9736d4f"
      },
      "execution_count": 55,
      "outputs": [
        {
          "output_type": "stream",
          "name": "stdout",
          "text": [
            "\n",
            "🔹 Random Forest\n",
            "Accuracy: 0.5644171779141104\n",
            "Classification Report:\n",
            "               precision    recall  f1-score   support\n",
            "\n",
            "           0       0.78      0.54      0.64        13\n",
            "           1       0.17      0.09      0.12        11\n",
            "           2       0.33      0.22      0.27         9\n",
            "           3       0.67      0.22      0.33         9\n",
            "           4       0.36      0.56      0.43         9\n",
            "           5       0.64      0.72      0.68        89\n",
            "           6       0.00      0.00      0.00         2\n",
            "           7       1.00      0.25      0.40         4\n",
            "           8       0.42      0.59      0.49        17\n",
            "\n",
            "    accuracy                           0.56       163\n",
            "   macro avg       0.48      0.35      0.37       163\n",
            "weighted avg       0.57      0.56      0.55       163\n",
            "\n",
            "Confusion Matrix:\n",
            " [[ 7  1  0  0  0  3  0  0  2]\n",
            " [ 0  1  1  0  1  7  0  0  1]\n",
            " [ 0  0  2  0  0  7  0  0  0]\n",
            " [ 0  0  0  2  0  7  0  0  0]\n",
            " [ 0  1  0  0  5  3  0  0  0]\n",
            " [ 2  3  3  1  7 64  0  0  9]\n",
            " [ 0  0  0  0  0  1  0  0  1]\n",
            " [ 0  0  0  0  1  1  0  1  1]\n",
            " [ 0  0  0  0  0  7  0  0 10]]\n"
          ]
        }
      ]
    },
    {
      "cell_type": "code",
      "source": [
        "from sklearn.neighbors import KNeighborsClassifier\n",
        "\n",
        "knn_model = KNeighborsClassifier()\n",
        "knn_model.fit(X_train, y_train)\n",
        "\n",
        "knn_pred = knn_model.predict(X_test)\n",
        "\n",
        "print(\"\\n🔹 K-Nearest Neighbors\")\n",
        "print(\"Accuracy:\", accuracy_score(y_test, knn_pred))\n",
        "print(\"Classification Report:\\n\", classification_report(y_test, knn_pred,zero_division=0))\n",
        "print(\"Confusion Matrix:\\n\", confusion_matrix(y_test, knn_pred))\n"
      ],
      "metadata": {
        "colab": {
          "base_uri": "https://localhost:8080/"
        },
        "id": "RMerA-uGkVTh",
        "outputId": "96ae1177-00bc-40ee-b549-ba9764e8f167"
      },
      "execution_count": 71,
      "outputs": [
        {
          "output_type": "stream",
          "name": "stdout",
          "text": [
            "\n",
            "🔹 K-Nearest Neighbors\n",
            "Accuracy: 0.49693251533742333\n",
            "Classification Report:\n",
            "               precision    recall  f1-score   support\n",
            "\n",
            "           0       0.50      0.46      0.48        13\n",
            "           1       0.00      0.00      0.00        11\n",
            "           2       0.12      0.22      0.16         9\n",
            "           3       0.00      0.00      0.00         9\n",
            "           4       0.20      0.22      0.21         9\n",
            "           5       0.65      0.72      0.68        89\n",
            "           6       0.00      0.00      0.00         2\n",
            "           7       0.00      0.00      0.00         4\n",
            "           8       0.39      0.41      0.40        17\n",
            "\n",
            "    accuracy                           0.50       163\n",
            "   macro avg       0.21      0.23      0.22       163\n",
            "weighted avg       0.45      0.50      0.47       163\n",
            "\n",
            "Confusion Matrix:\n",
            " [[ 6  1  0  0  1  4  0  0  1]\n",
            " [ 0  0  3  0  2  5  0  0  1]\n",
            " [ 0  1  2  0  0  6  0  0  0]\n",
            " [ 1  0  0  0  0  6  0  0  2]\n",
            " [ 0  0  1  0  2  6  0  0  0]\n",
            " [ 3  5  9  2  1 64  0  0  5]\n",
            " [ 0  0  0  0  0  1  0  0  1]\n",
            " [ 1  0  0  0  2  0  0  0  1]\n",
            " [ 1  0  1  0  2  6  0  0  7]]\n"
          ]
        }
      ]
    },
    {
      "cell_type": "code",
      "source": [
        "from xgboost import XGBClassifier\n",
        "\n",
        "xgb_model = XGBClassifier(use_label_encoder=False, eval_metric='mlogloss', random_state=42)\n",
        "xgb_model.fit(X_train, y_train)\n",
        "\n",
        "xgb_pred = xgb_model.predict(X_test)\n",
        "\n",
        "print(\"🔹 XGBoost\")\n",
        "print(\"Accuracy:\", accuracy_score(y_test, xgb_pred))\n",
        "print(\"Classification Report:\\n\", classification_report(y_test, xgb_pred,zero_division=0))\n",
        "print(\"Confusion Matrix:\\n\", confusion_matrix(y_test, xgb_pred))\n"
      ],
      "metadata": {
        "colab": {
          "base_uri": "https://localhost:8080/"
        },
        "id": "a7ybH8dzkuei",
        "outputId": "af06b952-fc31-4368-c5f5-d36b904ade68"
      },
      "execution_count": 57,
      "outputs": [
        {
          "output_type": "stream",
          "name": "stderr",
          "text": [
            "/usr/local/lib/python3.11/dist-packages/xgboost/core.py:158: UserWarning: [05:59:02] WARNING: /workspace/src/learner.cc:740: \n",
            "Parameters: { \"use_label_encoder\" } are not used.\n",
            "\n",
            "  warnings.warn(smsg, UserWarning)\n"
          ]
        },
        {
          "output_type": "stream",
          "name": "stdout",
          "text": [
            "🔹 XGBoost\n",
            "Accuracy: 0.5766871165644172\n",
            "Classification Report:\n",
            "               precision    recall  f1-score   support\n",
            "\n",
            "           0       0.58      0.54      0.56        13\n",
            "           1       0.38      0.27      0.32        11\n",
            "           2       0.43      0.33      0.38         9\n",
            "           3       0.50      0.33      0.40         9\n",
            "           4       0.43      0.33      0.38         9\n",
            "           5       0.64      0.73      0.68        89\n",
            "           6       0.00      0.00      0.00         2\n",
            "           7       0.00      0.00      0.00         4\n",
            "           8       0.45      0.59      0.51        17\n",
            "\n",
            "    accuracy                           0.58       163\n",
            "   macro avg       0.38      0.35      0.36       163\n",
            "weighted avg       0.55      0.58      0.56       163\n",
            "\n",
            "Confusion Matrix:\n",
            " [[ 7  0  0  0  0  5  0  0  1]\n",
            " [ 0  3  0  0  0  8  0  0  0]\n",
            " [ 0  0  3  0  0  6  0  0  0]\n",
            " [ 0  1  0  3  1  3  0  0  1]\n",
            " [ 0  1  1  0  3  4  0  0  0]\n",
            " [ 4  3  2  3  3 65  0  0  9]\n",
            " [ 1  0  0  0  0  1  0  0  0]\n",
            " [ 0  0  0  0  0  3  0  0  1]\n",
            " [ 0  0  1  0  0  6  0  0 10]]\n"
          ]
        }
      ]
    },
    {
      "cell_type": "code",
      "source": [
        "from sklearn.ensemble import AdaBoostClassifier\n",
        "\n",
        "ada_model = AdaBoostClassifier(random_state=42)\n",
        "ada_model.fit(X_train, y_train)\n",
        "\n",
        "ada_pred = ada_model.predict(X_test)\n",
        "\n",
        "print(\"\\n🔹 AdaBoost\")\n",
        "print(\"Accuracy:\", accuracy_score(y_test, ada_pred))\n",
        "print(\"Classification Report:\\n\", classification_report(y_test, ada_pred,zero_division=0))\n",
        "print(\"Confusion Matrix:\\n\", confusion_matrix(y_test, ada_pred))\n"
      ],
      "metadata": {
        "colab": {
          "base_uri": "https://localhost:8080/"
        },
        "id": "wH2h2K1Ckwtw",
        "outputId": "9680641e-43dc-46eb-a277-f4d1a50e799f"
      },
      "execution_count": 58,
      "outputs": [
        {
          "output_type": "stream",
          "name": "stdout",
          "text": [
            "\n",
            "🔹 AdaBoost\n",
            "Accuracy: 0.588957055214724\n",
            "Classification Report:\n",
            "               precision    recall  f1-score   support\n",
            "\n",
            "           0       0.71      0.38      0.50        13\n",
            "           1       0.20      0.09      0.12        11\n",
            "           2       0.30      0.67      0.41         9\n",
            "           3       0.00      0.00      0.00         9\n",
            "           4       0.00      0.00      0.00         9\n",
            "           5       0.67      0.84      0.75        89\n",
            "           6       0.00      0.00      0.00         2\n",
            "           7       0.00      0.00      0.00         4\n",
            "           8       0.50      0.53      0.51        17\n",
            "\n",
            "    accuracy                           0.59       163\n",
            "   macro avg       0.26      0.28      0.26       163\n",
            "weighted avg       0.50      0.59      0.53       163\n",
            "\n",
            "Confusion Matrix:\n",
            " [[ 5  2  1  0  0  5  0  0  0]\n",
            " [ 0  1  3  0  0  7  0  0  0]\n",
            " [ 0  0  6  0  0  3  0  0  0]\n",
            " [ 1  1  0  0  0  4  0  0  3]\n",
            " [ 0  0  0  0  0  8  0  0  1]\n",
            " [ 1  1  8  1  0 75  0  0  3]\n",
            " [ 0  0  0  0  0  2  0  0  0]\n",
            " [ 0  0  0  0  0  2  0  0  2]\n",
            " [ 0  0  2  0  0  6  0  0  9]]\n"
          ]
        }
      ]
    },
    {
      "cell_type": "code",
      "source": [
        "from sklearn.ensemble import GradientBoostingClassifier\n",
        "\n",
        "gb_model = GradientBoostingClassifier(random_state=42)\n",
        "gb_model.fit(X_train, y_train)\n",
        "\n",
        "gb_pred = gb_model.predict(X_test)\n",
        "\n",
        "print(\"\\n🔹 Gradient Boosting\")\n",
        "print(\"Accuracy:\", accuracy_score(y_test, gb_pred))\n",
        "print(\"Classification Report:\\n\", classification_report(y_test, gb_pred,zero_division=0))\n",
        "print(\"Confusion Matrix:\\n\", confusion_matrix(y_test, gb_pred))\n"
      ],
      "metadata": {
        "colab": {
          "base_uri": "https://localhost:8080/"
        },
        "id": "ONfaiU38k0FC",
        "outputId": "139099be-5e64-4b88-a1ec-b584d014e3ba"
      },
      "execution_count": 59,
      "outputs": [
        {
          "output_type": "stream",
          "name": "stdout",
          "text": [
            "\n",
            "🔹 Gradient Boosting\n",
            "Accuracy: 0.6073619631901841\n",
            "Classification Report:\n",
            "               precision    recall  f1-score   support\n",
            "\n",
            "           0       0.60      0.69      0.64        13\n",
            "           1       0.50      0.18      0.27        11\n",
            "           2       0.33      0.44      0.38         9\n",
            "           3       0.50      0.22      0.31         9\n",
            "           4       0.20      0.11      0.14         9\n",
            "           5       0.67      0.79      0.73        89\n",
            "           6       0.00      0.00      0.00         2\n",
            "           7       1.00      0.25      0.40         4\n",
            "           8       0.56      0.59      0.57        17\n",
            "\n",
            "    accuracy                           0.61       163\n",
            "   macro avg       0.48      0.36      0.38       163\n",
            "weighted avg       0.59      0.61      0.58       163\n",
            "\n",
            "Confusion Matrix:\n",
            " [[ 9  0  0  0  1  3  0  0  0]\n",
            " [ 0  2  1  0  1  7  0  0  0]\n",
            " [ 0  0  4  0  0  5  0  0  0]\n",
            " [ 0  1  0  2  1  4  0  0  1]\n",
            " [ 0  0  1  0  1  6  0  0  1]\n",
            " [ 6  1  5  2  1 70  0  0  4]\n",
            " [ 0  0  0  0  0  2  0  0  0]\n",
            " [ 0  0  0  0  0  1  0  1  2]\n",
            " [ 0  0  1  0  0  6  0  0 10]]\n"
          ]
        }
      ]
    },
    {
      "cell_type": "code",
      "source": [
        "from sklearn.ensemble import ExtraTreesClassifier\n",
        "\n",
        "et_model = ExtraTreesClassifier(random_state=42)\n",
        "et_model.fit(X_train, y_train)\n",
        "\n",
        "et_pred = et_model.predict(X_test)\n",
        "\n",
        "print(\"\\n🔹 Extra Trees Classifier\")\n",
        "print(\"Accuracy:\", accuracy_score(y_test, et_pred))\n",
        "print(\"Classification Report:\\n\", classification_report(y_test, et_pred,zero_division=0))\n",
        "print(\"Confusion Matrix:\\n\", confusion_matrix(y_test, et_pred))\n"
      ],
      "metadata": {
        "colab": {
          "base_uri": "https://localhost:8080/"
        },
        "id": "X_E-Cyhkk4Gq",
        "outputId": "c44e6b54-62a6-459b-9a7e-3339bc4f1744"
      },
      "execution_count": 60,
      "outputs": [
        {
          "output_type": "stream",
          "name": "stdout",
          "text": [
            "\n",
            "🔹 Extra Trees Classifier\n",
            "Accuracy: 0.588957055214724\n",
            "Classification Report:\n",
            "               precision    recall  f1-score   support\n",
            "\n",
            "           0       0.67      0.46      0.55        13\n",
            "           1       0.33      0.27      0.30        11\n",
            "           2       0.50      0.33      0.40         9\n",
            "           3       0.29      0.22      0.25         9\n",
            "           4       0.46      0.67      0.55         9\n",
            "           5       0.68      0.71      0.70        89\n",
            "           6       0.00      0.00      0.00         2\n",
            "           7       1.00      0.50      0.67         4\n",
            "           8       0.44      0.65      0.52        17\n",
            "\n",
            "    accuracy                           0.59       163\n",
            "   macro avg       0.49      0.42      0.44       163\n",
            "weighted avg       0.59      0.59      0.58       163\n",
            "\n",
            "Confusion Matrix:\n",
            " [[ 6  1  0  0  1  3  0  0  2]\n",
            " [ 0  3  0  0  1  6  0  0  1]\n",
            " [ 0  0  3  0  1  5  0  0  0]\n",
            " [ 0  0  0  2  0  6  0  0  1]\n",
            " [ 0  1  0  0  6  2  0  0  0]\n",
            " [ 3  4  3  3  4 63  0  0  9]\n",
            " [ 0  0  0  0  0  1  0  0  1]\n",
            " [ 0  0  0  2  0  0  0  2  0]\n",
            " [ 0  0  0  0  0  6  0  0 11]]\n"
          ]
        }
      ]
    },
    {
      "cell_type": "code",
      "source": [
        "from sklearn.linear_model import LogisticRegression\n",
        "from sklearn.svm import SVC\n",
        "from sklearn.naive_bayes import GaussianNB\n",
        "from sklearn.tree import DecisionTreeClassifier\n",
        "from sklearn.ensemble import RandomForestClassifier, AdaBoostClassifier, GradientBoostingClassifier, ExtraTreesClassifier\n",
        "from sklearn.neighbors import KNeighborsClassifier\n",
        "from xgboost import XGBClassifier\n",
        "from sklearn.metrics import accuracy_score\n",
        "import matplotlib.pyplot as plt\n",
        "\n",
        "# Train all models and store predictions\n",
        "models = {\n",
        "    \"Logistic Regression\": LogisticRegression(max_iter=1000, random_state=42),\n",
        "    \"SVM\": SVC(kernel='linear', random_state=42),\n",
        "    \"Naive Bayes\": GaussianNB(),\n",
        "    \"Decision Tree\": DecisionTreeClassifier(random_state=42),\n",
        "    \"Random Forest\": RandomForestClassifier(random_state=42),\n",
        "    \"KNN\": KNeighborsClassifier(),\n",
        "    \"XGBoost\": XGBClassifier(eval_metric='mlogloss'),\n",
        "    \"AdaBoost\": AdaBoostClassifier(random_state=42),\n",
        "    \"Gradient Boosting\": GradientBoostingClassifier(random_state=42),\n",
        "    \"Extra Trees\": ExtraTreesClassifier(random_state=42)\n",
        "}\n",
        "\n",
        "# Store accuracies\n",
        "accuracies = {}\n",
        "\n",
        "for name, model in models.items():\n",
        "    model.fit(X_train, y_train)\n",
        "    preds = model.predict(X_test)\n",
        "    acc = accuracy_score(y_test, preds)\n",
        "    accuracies[name] = acc\n",
        "\n",
        "# Plot accuracies\n",
        "plt.figure(figsize=(12, 6))\n",
        "plt.bar(accuracies.keys(), accuracies.values(), color='skyblue')\n",
        "plt.xticks(rotation=45, ha='right')\n",
        "plt.ylabel(\"Accuracy\")\n",
        "plt.title(\"Model Accuracy Comparison\")\n",
        "plt.grid(axis='y')\n",
        "plt.tight_layout()\n",
        "plt.show()\n"
      ],
      "metadata": {
        "colab": {
          "base_uri": "https://localhost:8080/",
          "height": 607
        },
        "id": "RMVWvrE_rtP8",
        "outputId": "4dc7d57a-c278-4817-af8c-a6cd26293001"
      },
      "execution_count": 64,
      "outputs": [
        {
          "output_type": "display_data",
          "data": {
            "text/plain": [
              "<Figure size 1200x600 with 1 Axes>"
            ],
            "image/png": "[encoded data removed]"
          },
          "metadata": {}
        }
      ]
    },
    {
      "cell_type": "code",
      "source": [
        "from sklearn.tree import DecisionTreeClassifier\n",
        "from sklearn.metrics import accuracy_score, classification_report, confusion_matrix\n",
        "\n",
        "# Train Decision Tree model\n",
        "dt_model = DecisionTreeClassifier(random_state=42)\n",
        "dt_model.fit(X_train, y_train)\n",
        "\n",
        "# Predict\n",
        "y_pred_dt = dt_model.predict(X_test)\n",
        "\n",
        "# Evaluate (optional)\n",
        "print(\"🔹 Decision Tree\")\n",
        "print(\"Accuracy:\", accuracy_score(y_test, y_pred_dt))\n",
        "print(\"Classification Report:\\n\", classification_report(y_test, y_pred_dt, zero_division=0))\n",
        "print(\"Confusion Matrix:\\n\", confusion_matrix(y_test, y_pred_dt))\n"
      ],
      "metadata": {
        "colab": {
          "base_uri": "https://localhost:8080/"
        },
        "id": "rm_ofvZqsqZT",
        "outputId": "6d0403d5-3d14-48d6-da53-7ae4df078660"
      },
      "execution_count": 68,
      "outputs": [
        {
          "output_type": "stream",
          "name": "stdout",
          "text": [
            "🔹 Decision Tree\n",
            "Accuracy: 0.5153374233128835\n",
            "Classification Report:\n",
            "               precision    recall  f1-score   support\n",
            "\n",
            "           0       0.54      0.54      0.54        13\n",
            "           1       0.33      0.36      0.35        11\n",
            "           2       0.27      0.33      0.30         9\n",
            "           3       0.14      0.11      0.12         9\n",
            "           4       0.10      0.11      0.11         9\n",
            "           5       0.69      0.61      0.65        89\n",
            "           6       0.00      0.00      0.00         2\n",
            "           7       1.00      1.00      1.00         4\n",
            "           8       0.37      0.59      0.45        17\n",
            "\n",
            "    accuracy                           0.52       163\n",
            "   macro avg       0.38      0.41      0.39       163\n",
            "weighted avg       0.54      0.52      0.52       163\n",
            "\n",
            "Confusion Matrix:\n",
            " [[ 7  1  0  0  0  3  0  0  2]\n",
            " [ 0  4  0  0  1  5  0  0  1]\n",
            " [ 0  0  3  0  1  5  0  0  0]\n",
            " [ 0  1  2  1  1  3  0  0  1]\n",
            " [ 0  2  0  0  1  4  0  0  2]\n",
            " [ 5  3  5  6  5 54  1  0 10]\n",
            " [ 0  0  0  0  0  1  0  0  1]\n",
            " [ 0  0  0  0  0  0  0  4  0]\n",
            " [ 1  1  1  0  1  3  0  0 10]]\n"
          ]
        }
      ]
    },
    {
      "cell_type": "code",
      "source": [
        "from sklearn.neighbors import KNeighborsClassifier\n",
        "\n",
        "# Train the KNN model\n",
        "knn_model = KNeighborsClassifier(n_neighbors=5)\n",
        "knn_model.fit(X_train, y_train)\n",
        "\n",
        "# Predictions\n",
        "y_pred_knn = knn_model.predict(X_test)\n"
      ],
      "metadata": {
        "id": "8jN08sxQtDYc"
      },
      "execution_count": 73,
      "outputs": []
    },
    {
      "cell_type": "code",
      "source": [
        "from sklearn.ensemble import AdaBoostClassifier\n",
        "\n",
        "# Train the AdaBoost model\n",
        "ada_model = AdaBoostClassifier(random_state=42)\n",
        "ada_model.fit(X_train, y_train)\n",
        "\n",
        "# Predictions\n",
        "y_pred_ada = ada_model.predict(X_test)\n"
      ],
      "metadata": {
        "id": "jyDpDiCjtJyz"
      },
      "execution_count": 75,
      "outputs": []
    },
    {
      "cell_type": "code",
      "source": [
        "from sklearn.ensemble import GradientBoostingClassifier\n",
        "\n",
        "# Train the Gradient Boosting model\n",
        "gb_model = GradientBoostingClassifier(random_state=42)\n",
        "gb_model.fit(X_train, y_train)\n",
        "\n",
        "# Predictions\n",
        "y_pred_gb = gb_model.predict(X_test)\n"
      ],
      "metadata": {
        "id": "tun7h-xetRvT"
      },
      "execution_count": 77,
      "outputs": []
    },
    {
      "cell_type": "code",
      "source": [
        "from sklearn.ensemble import ExtraTreesClassifier\n",
        "\n",
        "# Train the Extra Trees model\n",
        "et_model = ExtraTreesClassifier(random_state=42)\n",
        "et_model.fit(X_train, y_train)\n",
        "\n",
        "# Predictions\n",
        "y_pred_et = et_model.predict(X_test)\n"
      ],
      "metadata": {
        "id": "xYFN3RUhta6V"
      },
      "execution_count": 79,
      "outputs": []
    },
    {
      "cell_type": "code",
      "source": [
        "import matplotlib.pyplot as plt\n",
        "\n",
        "model_accuracies = {\n",
        "    \"Logistic Regression\": accuracy_score(y_test, y_pred_lr),\n",
        "    \"SVM\": accuracy_score(y_test, y_pred_svm),\n",
        "    \"Naive Bayes\": accuracy_score(y_test, y_pred_nb),\n",
        "    \"Decision Tree\": accuracy_score(y_test, y_pred_dt),\n",
        "    \"Random Forest\": accuracy_score(y_test, y_pred_rf),\n",
        "    \"KNN\": accuracy_score(y_test, y_pred_knn),\n",
        "    \"XGBoost\": accuracy_score(y_test, y_pred_xgb),\n",
        "    \"AdaBoost\": accuracy_score(y_test, y_pred_ada),\n",
        "    \"Gradient Boosting\": accuracy_score(y_test, y_pred_gb),\n",
        "    \"Extra Trees\": accuracy_score(y_test, y_pred_et),\n",
        "}\n",
        "\n",
        "# Plot bar chart\n",
        "plt.figure(figsize=(12, 6))\n",
        "plt.bar(model_accuracies.keys(), model_accuracies.values(), color='skyblue')\n",
        "plt.xticks(rotation=45, ha='right')\n",
        "plt.ylabel(\"Accuracy\")\n",
        "plt.title(\"Model Accuracy Comparison\")\n",
        "plt.grid(axis='y')\n",
        "plt.tight_layout()\n",
        "plt.show()\n"
      ],
      "metadata": {
        "colab": {
          "base_uri": "https://localhost:8080/",
          "height": 607
        },
        "id": "sRRSOkwKsLsM",
        "outputId": "cd303178-0521-469c-b185-c0e4b5e02635"
      },
      "execution_count": 80,
      "outputs": [
        {
          "output_type": "display_data",
          "data": {
            "text/plain": [
              "<Figure size 1200x600 with 1 Axes>"
            ],
            "image/png": "[encoded data removed]"
          },
          "metadata": {}
        }
      ]
    },
    {
      "cell_type": "code",
      "source": [
        "from sklearn.model_selection import cross_val_score\n",
        "\n",
        "# Example: Cross-validation for Random Forest\n",
        "scores = cross_val_score(rf_model, X, y, cv=3)\n",
        "print(\"Cross-Validation Accuracy (Random Forest):\", scores.mean())\n"
      ],
      "metadata": {
        "colab": {
          "base_uri": "https://localhost:8080/"
        },
        "id": "UOeMdd35uWRh",
        "outputId": "b853c520-6a0a-427b-fd83-bff785195536"
      },
      "execution_count": 82,
      "outputs": [
        {
          "output_type": "stream",
          "name": "stdout",
          "text": [
            "Cross-Validation Accuracy (Random Forest): 0.325736198538456\n"
          ]
        }
      ]
    },
    {
      "cell_type": "code",
      "source": [
        "from sklearn.model_selection import GridSearchCV\n",
        "\n",
        "param_grid = {\n",
        "    'n_estimators': [100, 200],\n",
        "    'max_depth': [None, 10, 20],\n",
        "    'min_samples_split': [2, 5]\n",
        "}\n",
        "\n",
        "grid_search = GridSearchCV(RandomForestClassifier(random_state=42), param_grid, cv=3)\n",
        "grid_search.fit(X_train, y_train)\n",
        "\n",
        "print(\"Best Params:\", grid_search.best_params_)\n",
        "best_model = grid_search.best_estimator_\n"
      ],
      "metadata": {
        "colab": {
          "base_uri": "https://localhost:8080/"
        },
        "id": "TRXya5yjunj5",
        "outputId": "c1cd2850-4dc2-4d30-c221-9e1f07c21311"
      },
      "execution_count": 84,
      "outputs": [
        {
          "output_type": "stream",
          "name": "stderr",
          "text": [
            "/usr/local/lib/python3.11/dist-packages/sklearn/model_selection/_split.py:805: UserWarning: The least populated class in y has only 1 members, which is less than n_splits=3.\n",
            "  warnings.warn(\n"
          ]
        },
        {
          "output_type": "stream",
          "name": "stdout",
          "text": [
            "Best Params: {'max_depth': 10, 'min_samples_split': 2, 'n_estimators': 100}\n"
          ]
        }
      ]
    },
    {
      "cell_type": "code",
      "source": [
        "from sklearn.ensemble import RandomForestClassifier\n",
        "\n",
        "best_rf = RandomForestClassifier(\n",
        "    max_depth=10,\n",
        "    min_samples_split=2,\n",
        "    n_estimators=100,\n",
        "    random_state=42\n",
        ")\n",
        "best_rf.fit(X_train, y_train)\n",
        "y_pred_best_rf = best_rf.predict(X_test)\n"
      ],
      "metadata": {
        "id": "4MCJGiK3vhpb"
      },
      "execution_count": 85,
      "outputs": []
    },
    {
      "cell_type": "code",
      "source": [
        "from sklearn.metrics import classification_report, confusion_matrix\n",
        "\n",
        "print(\"Classification Report:\\n\", classification_report(y_test, y_pred_best_rf, zero_division=0))\n",
        "print(\"Confusion Matrix:\\n\", confusion_matrix(y_test, y_pred_best_rf))\n"
      ],
      "metadata": {
        "colab": {
          "base_uri": "https://localhost:8080/"
        },
        "id": "3KtDVY-ovphJ",
        "outputId": "75432880-2160-47f6-b5a6-8e9289be0f6a"
      },
      "execution_count": 86,
      "outputs": [
        {
          "output_type": "stream",
          "name": "stdout",
          "text": [
            "Classification Report:\n",
            "               precision    recall  f1-score   support\n",
            "\n",
            "           0       1.00      0.46      0.63        13\n",
            "           1       0.33      0.18      0.24        11\n",
            "           2       0.33      0.11      0.17         9\n",
            "           3       0.67      0.22      0.33         9\n",
            "           4       0.67      0.22      0.33         9\n",
            "           5       0.65      0.90      0.75        89\n",
            "           6       0.00      0.00      0.00         2\n",
            "           7       1.00      0.25      0.40         4\n",
            "           8       0.53      0.53      0.53        17\n",
            "\n",
            "    accuracy                           0.63       163\n",
            "   macro avg       0.57      0.32      0.38       163\n",
            "weighted avg       0.63      0.63      0.59       163\n",
            "\n",
            "Confusion Matrix:\n",
            " [[ 6  1  0  0  0  6  0  0  0]\n",
            " [ 0  2  1  0  0  8  0  0  0]\n",
            " [ 0  0  1  0  0  8  0  0  0]\n",
            " [ 0  0  0  2  0  5  0  0  2]\n",
            " [ 0  1  0  0  2  6  0  0  0]\n",
            " [ 0  2  1  1  0 80  0  0  5]\n",
            " [ 0  0  0  0  0  2  0  0  0]\n",
            " [ 0  0  0  0  1  1  0  1  1]\n",
            " [ 0  0  0  0  0  8  0  0  9]]\n"
          ]
        }
      ]
    },
    {
      "cell_type": "code",
      "source": [
        "importances = best_rf.feature_importances_\n",
        "features = X.columns\n",
        "feature_importance_df = pd.DataFrame({'Feature': features, 'Importance': importances})\n",
        "feature_importance_df = feature_importance_df.sort_values(by='Importance', ascending=False)\n",
        "\n",
        "# Plot\n",
        "import seaborn as sns\n",
        "plt.figure(figsize=(10, 6))\n",
        "sns.barplot(x='Importance', y='Feature', data=feature_importance_df.head(10))\n",
        "plt.title('Top 10 Important Features')\n",
        "plt.tight_layout()\n",
        "plt.show()\n",
        "\n"
      ],
      "metadata": {
        "colab": {
          "base_uri": "https://localhost:8080/",
          "height": 607
        },
        "id": "Wfq1TWvhvuVg",
        "outputId": "dd7e91dd-7c1f-4503-be68-007c55518c6e"
      },
      "execution_count": 87,
      "outputs": [
        {
          "output_type": "display_data",
          "data": {
            "text/plain": [
              "<Figure size 1000x600 with 1 Axes>"
            ],
            "image/png": "[encoded data removed]"
          },
          "metadata": {}
        }
      ]
    },
    {
      "cell_type": "code",
      "source": [
        "import numpy as np\n",
        "\n",
        "from sklearn.preprocessing import label_binarize\n",
        "from sklearn.metrics import roc_curve, auc\n",
        "\n",
        "# Binarize the output (one-hot encoding)\n",
        "y_test_bin = label_binarize(y_test, classes=np.unique(y))\n",
        "n_classes = y_test_bin.shape[1]\n",
        "\n",
        "# Get the probabilities\n",
        "y_score = best_rf.predict_proba(X_test)\n",
        "\n",
        "# Plot ROC curve for each class\n",
        "plt.figure(figsize=(10, 6))\n",
        "for i in range(n_classes):\n",
        "    fpr, tpr, _ = roc_curve(y_test_bin[:, i], y_score[:, i])\n",
        "    roc_auc = auc(fpr, tpr)\n",
        "    plt.plot(fpr, tpr, label=f'Class {i} (AUC = {roc_auc:.2f})')\n",
        "\n",
        "plt.plot([0, 1], [0, 1], 'k--')\n",
        "plt.title('Multiclass ROC Curve')\n",
        "plt.xlabel('False Positive Rate')\n",
        "plt.ylabel('True Positive Rate')\n",
        "plt.legend(loc='lower right')\n",
        "plt.tight_layout()\n",
        "plt.show()\n"
      ],
      "metadata": {
        "colab": {
          "base_uri": "https://localhost:8080/",
          "height": 607
        },
        "id": "5bk92zNlv0zY",
        "outputId": "0e2ef181-b29b-4aee-bcc1-fa25b11b391c"
      },
      "execution_count": 91,
      "outputs": [
        {
          "output_type": "display_data",
          "data": {
            "text/plain": [
              "<Figure size 1000x600 with 1 Axes>"
            ],
            "image/png": "[encoded data removed]"
          },
          "metadata": {}
        }
      ]
    }
  ]
}